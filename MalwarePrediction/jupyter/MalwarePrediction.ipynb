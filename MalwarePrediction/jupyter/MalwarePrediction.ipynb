{
 "cells": [
  {
   "cell_type": "markdown",
   "metadata": {},
   "source": [
    "## Introduction\n",
    "\n",
    "https://www.kaggle.com/c/microsoft-malware-prediction/overview/description\n",
    "\n",
    "This is the initial attempt of this malware prediction project. This notebook mainly focus on data cleaning and initial data exploration. Due to the lare data set, data cleaning has been broken down to sub-sets and preserved for future use. "
   ]
  },
  {
   "cell_type": "markdown",
   "metadata": {},
   "source": [
    "## Imports"
   ]
  },
  {
   "cell_type": "code",
   "execution_count": 1,
   "metadata": {},
   "outputs": [],
   "source": [
    "import seaborn as sns\n",
    "import numpy as np\n",
    "import matplotlib.pyplot as plt\n",
    "import pandas as pd\n",
    "import sys\n",
    "import os.path\n",
    "import time\n",
    "import pickle\n",
    "from sinfo import sinfo\n",
    "import Util\n",
    "\n",
    "from sklearn.preprocessing import StandardScaler, MinMaxScaler\n",
    "from sklearn.model_selection import GridSearchCV, RandomizedSearchCV\n",
    "from sklearn.linear_model import LogisticRegression\n",
    "from sklearn.ensemble import RandomForestClassifier"
   ]
  },
  {
   "cell_type": "markdown",
   "metadata": {},
   "source": [
    "## I. Load Raw Data"
   ]
  },
  {
   "cell_type": "code",
   "execution_count": 2,
   "metadata": {},
   "outputs": [],
   "source": [
    "DATA_PATH = 'Data/'\n",
    "MODEL_PATH = 'Model/'"
   ]
  },
  {
   "cell_type": "code",
   "execution_count": null,
   "metadata": {
    "scrolled": false
   },
   "outputs": [],
   "source": [
    "df_pkl = DATA_PATH + \"df_train_data.pkl\"\n",
    "\n",
    "if not os.path.exists(df_pkl):\n",
    "    df_train_data = pd.read_csv(DATA_PATH + \"train.csv\")\n",
    "    df_train_data.to_pickle(df_pkl)\n",
    "\n",
    "df_train_data = pd.read_pickle(df_pkl)\n",
    "display(df_train_data.head(10))\n"
   ]
  },
  {
   "cell_type": "code",
   "execution_count": null,
   "metadata": {},
   "outputs": [],
   "source": [
    "# take a quick look of the data set\n",
    "display(df_train_data.shape)\n",
    "df_train_data.info()\n",
    "\n",
    "# Is this an imbalance dataset?\n",
    "unique_elements, counts_elements = np.unique(df_train_data['HasDetections'], return_counts=True)\n",
    "print(np.asarray((unique_elements, counts_elements)))\n",
    "\n",
    "# No, this is a balanced dataset.(value: count) 0:4462591, 1:4458892"
   ]
  },
  {
   "cell_type": "markdown",
   "metadata": {},
   "source": [
    "## II. Data Preprocessing"
   ]
  },
  {
   "cell_type": "markdown",
   "metadata": {},
   "source": [
    "### II.I Drop columns contains too many NaN values"
   ]
  },
  {
   "cell_type": "code",
   "execution_count": null,
   "metadata": {},
   "outputs": [],
   "source": [
    "# Get number of columns have NaN values\n",
    "null_columns = df_train_data.columns[df_train_data.isnull().any()]\n",
    "display(\"Original number of columns contains NaN values: {0}\".format(len(null_columns)))\n",
    "\n",
    "# get NaN count per each column\n",
    "display(df_train_data[null_columns].isnull().sum())"
   ]
  },
  {
   "cell_type": "markdown",
   "metadata": {},
   "source": [
    "Drop columns based on the following conditions:\n",
    "* columns which have NaN values over 35% of the total rows. Because these columns can't provide too much value for later data analysis\n",
    "* Since we don't have reference for these identifiers, they don't provide much information for us. Drop these identifier columns. \n",
    "* If a column contains too many unique values, almost as many as the total number of rows, this could also be an identifier column. Drop this column.\n",
    "* Also, if a column contains only 1 unique value, this column won't provide meaningful information, drop this column."
   ]
  },
  {
   "cell_type": "code",
   "execution_count": null,
   "metadata": {
    "scrolled": false
   },
   "outputs": [],
   "source": [
    "columns_to_drop = Util.get_columns_to_drop(df_train_data,null_columns,0.35)\n",
    "display(columns_to_drop)\n",
    "\n",
    "# drop columns for train data\n",
    "df_train_data = df_train_data.drop(columns = columns_to_drop)\n",
    "\n",
    "# check data frame again, no columns got dropped based on above conditions\n",
    "df_train_data.shape\n",
    "\n",
    "#if exported csv is not found,export this dataframe to csv\n",
    "csv_file = DATA_PATH + \"train_clean_1.csv\"\n",
    "if not os.path.exists(csv_file):\n",
    "    df_train_data.to_csv(csv_file, index = False)"
   ]
  },
  {
   "cell_type": "code",
   "execution_count": null,
   "metadata": {
    "scrolled": true
   },
   "outputs": [],
   "source": [
    "# reload data from cleaned train csv\n",
    "df_pkl = DATA_PATH + \"df_train_data_clean.pkl\"\n",
    "\n",
    "if not os.path.exists(df_pkl):\n",
    "    df_train_data_clean = pd.read_csv(DATA_PATH + \"train_clean_1.csv\")\n",
    "    df_train_data_clean.to_pickle(df_pkl)\n",
    "\n",
    "df_train_data_clean = pd.read_pickle(df_pkl)\n",
    "display(df_train_data_clean.head(10))"
   ]
  },
  {
   "cell_type": "code",
   "execution_count": null,
   "metadata": {},
   "outputs": [],
   "source": [
    "# check dataframe info\n",
    "df_train_data_clean.shape\n",
    "df_train_data_clean.info()"
   ]
  },
  {
   "cell_type": "markdown",
   "metadata": {},
   "source": [
    "### II.II Categorize Data Types and fill in NaN values accordingly. Then preserve the results."
   ]
  },
  {
   "cell_type": "code",
   "execution_count": null,
   "metadata": {},
   "outputs": [],
   "source": [
    "# Categorize columns into numeric or string data types\n",
    "columns_numeric = []\n",
    "columns_str = []\n",
    "\n",
    "for column in df_train_data_clean.columns:\n",
    "    data = df_train_data_clean[column].values[0]\n",
    "    \n",
    "    if type(data) is str:\n",
    "        columns_str.append(column)\n",
    "    elif (type(data.item()) is int or type(data.item()) is float):\n",
    "        columns_numeric.append(column)\n",
    "\n",
    "# verify we are not missing any columns\n",
    "assert len(columns_numeric) + len(columns_str) == len(df_train_data_clean.columns),\"Total number of columns NOT matched.\""
   ]
  },
  {
   "cell_type": "code",
   "execution_count": null,
   "metadata": {
    "scrolled": false
   },
   "outputs": [],
   "source": [
    "# create dataframes: numeric columns and string columns\n",
    "# so it's easier to fill up NaN values later\n",
    "df_train_clean_numeric = df_train_data_clean[columns_numeric]\n",
    "df_train_clean_str = df_train_data_clean[columns_str]\n",
    "\n",
    "# get NaN count per each column\n",
    "display(df_train_clean_numeric.isnull().sum())g\n",
    "display(df_train_clean_numeric.head())\n",
    "\n",
    "display(df_train_clean_str.isnull().sum())\n",
    "display(df_train_clean_str.head())"
   ]
  },
  {
   "cell_type": "markdown",
   "metadata": {},
   "source": [
    "Notes: for categorical data, fill NaN with mode, for numeric, fill in with median/average"
   ]
  },
  {
   "cell_type": "markdown",
   "metadata": {},
   "source": [
    "* categorical data, numeric values"
   ]
  },
  {
   "cell_type": "code",
   "execution_count": null,
   "metadata": {},
   "outputs": [],
   "source": [
    "# categorical data, numeric values, use mode()\n",
    "columns_mode = ['RtpStateBitfield',\n",
    "                'AVProductsInstalled',\n",
    "                'AVProductsEnabled',\n",
    "                'UacLuaenable']\n",
    "\n",
    "# check unique values per each column\n",
    "dic_unique_vals_mode = Util.getUniqueValuesPerColumn(df_train_clean_numeric,columns_mode)\n",
    "\n",
    "display(dic_unique_vals_mode)\n",
    "\n",
    "result = Util.fillInNaN(df_train_clean_numeric,columns_mode,'mode')"
   ]
  },
  {
   "cell_type": "markdown",
   "metadata": {},
   "source": [
    "* Non-categorical numeric values"
   ]
  },
  {
   "cell_type": "code",
   "execution_count": null,
   "metadata": {},
   "outputs": [],
   "source": [
    "# Non-categorical numeric values, use median(), this is less sensitive to outliers\n",
    "columns_median = ['Census_InternalPrimaryDiagonalDisplaySizeInInches',\n",
    "                 'Census_InternalPrimaryDisplayResolutionHorizontal',\n",
    "                 'Census_InternalPrimaryDisplayResolutionVertical',\n",
    "                 'Census_ProcessorCoreCount',\n",
    "                 'Census_InternalBatteryNumberOfCharges',\n",
    "                 'Census_PrimaryDiskTotalCapacity',\n",
    "                 'Census_SystemVolumeTotalCapacity',\n",
    "                 'Census_TotalPhysicalRAM']\n",
    "\n",
    "dic_unique_vals_median = Util.getUniqueValuesPerColumn(df_train_clean_numeric,columns_median)\n",
    "display(dic_unique_vals_median)\n",
    "\n",
    "result = result & Util.fillInNaN(df_train_clean_numeric,columns_median,'median')"
   ]
  },
  {
   "cell_type": "markdown",
   "metadata": {},
   "source": [
    "* boolean columns"
   ]
  },
  {
   "cell_type": "code",
   "execution_count": null,
   "metadata": {},
   "outputs": [],
   "source": [
    "# columns contains boolean values considered as categorical, fill NaN with mode()\n",
    "columns_bool = ['IsProtected',\n",
    "                'SMode',\n",
    "                'Firewall',\n",
    "                'Census_HasOpticalDiskDrive',\n",
    "                'Census_IsFlightsDisabled',\n",
    "                'Census_IsVirtualDevice',\n",
    "                'Census_IsAlwaysOnAlwaysConnectedCapable']\n",
    "\n",
    "dic_unique_vals_bool = Util.getUniqueValuesPerColumn(df_train_clean_numeric,columns_bool)\n",
    "display(dic_unique_vals_bool)\n",
    "\n",
    "result = result & Util.fillInNaN(df_train_clean_numeric,columns_bool,'mode')"
   ]
  },
  {
   "cell_type": "markdown",
   "metadata": {},
   "source": [
    "* Identifier Columns"
   ]
  },
  {
   "cell_type": "code",
   "execution_count": null,
   "metadata": {},
   "outputs": [],
   "source": [
    "# get identifier columns\n",
    "identifier_columns = []\n",
    "\n",
    "for column in df_train_clean_numeric.columns:\n",
    "    if 'identifier' in column.lower():\n",
    "        identifier_columns.append(column)\n",
    "\n",
    "display(\"Number of identifier columns:{0}\".format(len(identifier_columns)))\n",
    "display(identifier_columns)"
   ]
  },
  {
   "cell_type": "code",
   "execution_count": null,
   "metadata": {},
   "outputs": [],
   "source": [
    "# drop identifier columns to get the minimum workable version of data\n",
    "df_train_clean_numeric = df_train_clean_numeric.drop(columns = identifier_columns)"
   ]
  },
  {
   "cell_type": "code",
   "execution_count": null,
   "metadata": {},
   "outputs": [],
   "source": [
    "#verify df_train_clean_numeric contains NO NaN value after fill up NaN values\n",
    "if result:\n",
    "    display(df_train_clean_numeric.isnull().sum())\n",
    "else:\n",
    "    display(\"Failed to fill NaN\")"
   ]
  },
  {
   "cell_type": "code",
   "execution_count": null,
   "metadata": {},
   "outputs": [],
   "source": [
    "display(df_train_clean_numeric.head())\n",
    "\n",
    "# export to csv first\n",
    "csv_file = DATA_PATH + \"train_clean_numeric.csv\"\n",
    "if not os.path.exists(csv_file):\n",
    "    df_train_clean_numeric.to_csv(csv_file, index = False)  "
   ]
  },
  {
   "cell_type": "markdown",
   "metadata": {},
   "source": [
    "* string value columns:\n",
    "* Fill in NaN values with empty string. \n",
    "* Take out first column 'MachineIdentifier' from exisitng dataframe, and preserve that as a seperate dataframe for later use. (This column will be merged with other dataframes based on idex.\n",
    "* Drop columns contains 'version' in column names. This column should be treated differently. Save them as seperate dataframe.\n",
    "* Finally, export cleaned string value dataframe to csv file and pickle it."
   ]
  },
  {
   "cell_type": "code",
   "execution_count": null,
   "metadata": {},
   "outputs": [],
   "source": [
    "# fill up NaN values with empty string for string value columns. (or categorize it as NA category)\n",
    "# use empty string to fill up NaN in the following case\n",
    "columns_str = ['OsBuildLab','Census_PrimaryDiskTypeName','Census_ChassisTypeName','Census_PowerPlatformRoleName']\n",
    "\n",
    "result = result & Util.fillInNaN(df_train_clean_str,columns_str,'')"
   ]
  },
  {
   "cell_type": "code",
   "execution_count": null,
   "metadata": {},
   "outputs": [],
   "source": [
    "# verify there's no NaN values\n",
    "if result:\n",
    "    display(df_train_clean_str.isnull().sum())\n",
    "else:\n",
    "    display(\"Failed to fill NaN\")"
   ]
  },
  {
   "cell_type": "code",
   "execution_count": null,
   "metadata": {},
   "outputs": [],
   "source": [
    "df_train_clean_str.head()"
   ]
  },
  {
   "cell_type": "code",
   "execution_count": null,
   "metadata": {},
   "outputs": [],
   "source": [
    "# Get first column: MachineIdentifier and preserve the dataframe\n",
    "df_train_MachineIdentifier = pd.DataFrame(df_train_clean_str['MachineIdentifier'])\n",
    "\n",
    "df_pkl = DATA_PATH + \"df_train_MachineIdentifier.pkl\"\n",
    "\n",
    "# save dataframe\n",
    "if not os.path.exists(df_pkl):\n",
    "    df_train_MachineIdentifier.to_pickle(df_pkl)\n"
   ]
  },
  {
   "cell_type": "code",
   "execution_count": null,
   "metadata": {},
   "outputs": [],
   "source": [
    "# drop 'MachineIdentifier' column from the dataframe. \n",
    "# We want to have a data frame contains string values without MachineIdentifier column.\n",
    "df_train_clean_str = df_train_clean_str.drop(columns = 'MachineIdentifier')\n",
    "df_train_clean_str.head()"
   ]
  },
  {
   "cell_type": "code",
   "execution_count": null,
   "metadata": {},
   "outputs": [],
   "source": [
    "# exclude out columns contain 'version', this will be processed differently later\n",
    "# save the dataframe\n",
    "\n",
    "columns_version = []\n",
    "\n",
    "for column in df_train_clean_str.columns:\n",
    "    if 'version' in column.lower():\n",
    "        columns_version.append(column)\n",
    "\n",
    "df_train_version = pd.DataFrame(df_train_clean_str[columns_version])\n",
    "\n",
    "df_pkl = DATA_PATH + \"df_train_version.pkl\"\n",
    "\n",
    "# save dataframe\n",
    "if not os.path.exists(df_pkl):\n",
    "    df_train_version.to_pickle(df_pkl)"
   ]
  },
  {
   "cell_type": "code",
   "execution_count": null,
   "metadata": {},
   "outputs": [],
   "source": [
    "# drop 'version' column\n",
    "df_train_clean_str = df_train_clean_str.drop(columns = columns_version)\n",
    "df_train_clean_str.head()"
   ]
  },
  {
   "cell_type": "code",
   "execution_count": null,
   "metadata": {},
   "outputs": [],
   "source": [
    "# str columns, export to csv first\n",
    "csv_file = DATA_PATH + \"train_clean_str.csv\"\n",
    "\n",
    "if not os.path.exists(csv_file):\n",
    "    df_train_clean_str.to_csv(csv_file, index = False)"
   ]
  },
  {
   "cell_type": "code",
   "execution_count": null,
   "metadata": {
    "scrolled": false
   },
   "outputs": [],
   "source": [
    "#str columns, reload data from csv, and save the dataframe\n",
    "df_pkl = DATA_PATH + \"df_train_clean_str.pkl\"\n",
    "\n",
    "if not os.path.exists(df_pkl):\n",
    "    # re-load from exported csv\n",
    "    df_train_clean_str = pd.read_csv(DATA_PATH + \"train_clean_str.csv\")\n",
    "    df_train_clean_str.to_pickle(df_pkl)\n",
    "\n",
    "df_train_clean_str = pd.read_pickle(df_pkl)\n",
    "display(df_train_clean_str.head(10))"
   ]
  },
  {
   "cell_type": "markdown",
   "metadata": {},
   "source": [
    "Make the string value dataframes as dummies dataframe and preserve it. This will be used later on for feature engineering. Another option is to save it as sparse matrix."
   ]
  },
  {
   "cell_type": "code",
   "execution_count": null,
   "metadata": {},
   "outputs": [],
   "source": [
    "# save str dummies dataframe\n",
    "df_pkl = DATA_PATH + \"df_train_clean_str_dummies.pkl\"\n",
    "\n",
    "if not os.path.exists(df_pkl):\n",
    "    df_train_clean_str_dummies = pd.get_dummies(df_train_clean_str)\n",
    "    df_train_clean_str_dummies.to_pickle(df_pkl)\n",
    "\n",
    "df_train_clean_str_dummies = pd.read_pickle(df_pkl)\n",
    "display(df_train_clean_str_dummies.head(10))"
   ]
  },
  {
   "cell_type": "markdown",
   "metadata": {},
   "source": [
    "## III. Prototyping - Logistic Regression\n",
    "### Numeric columns only"
   ]
  },
  {
   "cell_type": "code",
   "execution_count": 3,
   "metadata": {},
   "outputs": [
    {
     "data": {
      "text/html": [
       "<div>\n",
       "<style scoped>\n",
       "    .dataframe tbody tr th:only-of-type {\n",
       "        vertical-align: middle;\n",
       "    }\n",
       "\n",
       "    .dataframe tbody tr th {\n",
       "        vertical-align: top;\n",
       "    }\n",
       "\n",
       "    .dataframe thead th {\n",
       "        text-align: right;\n",
       "    }\n",
       "</style>\n",
       "<table border=\"1\" class=\"dataframe\">\n",
       "  <thead>\n",
       "    <tr style=\"text-align: right;\">\n",
       "      <th></th>\n",
       "      <th>IsBeta</th>\n",
       "      <th>RtpStateBitfield</th>\n",
       "      <th>IsSxsPassiveMode</th>\n",
       "      <th>AVProductsInstalled</th>\n",
       "      <th>AVProductsEnabled</th>\n",
       "      <th>HasTpm</th>\n",
       "      <th>OsBuild</th>\n",
       "      <th>OsSuite</th>\n",
       "      <th>IsProtected</th>\n",
       "      <th>AutoSampleOptIn</th>\n",
       "      <th>...</th>\n",
       "      <th>Census_OSBuildRevision</th>\n",
       "      <th>Census_IsPortableOperatingSystem</th>\n",
       "      <th>Census_IsFlightsDisabled</th>\n",
       "      <th>Census_IsSecureBootEnabled</th>\n",
       "      <th>Census_IsVirtualDevice</th>\n",
       "      <th>Census_IsTouchEnabled</th>\n",
       "      <th>Census_IsPenCapable</th>\n",
       "      <th>Census_IsAlwaysOnAlwaysConnectedCapable</th>\n",
       "      <th>Wdft_IsGamer</th>\n",
       "      <th>HasDetections</th>\n",
       "    </tr>\n",
       "  </thead>\n",
       "  <tbody>\n",
       "    <tr>\n",
       "      <th>0</th>\n",
       "      <td>0</td>\n",
       "      <td>7.0</td>\n",
       "      <td>0</td>\n",
       "      <td>1.0</td>\n",
       "      <td>1.0</td>\n",
       "      <td>1</td>\n",
       "      <td>17134</td>\n",
       "      <td>256</td>\n",
       "      <td>1.0</td>\n",
       "      <td>0</td>\n",
       "      <td>...</td>\n",
       "      <td>165</td>\n",
       "      <td>0</td>\n",
       "      <td>0.0</td>\n",
       "      <td>0</td>\n",
       "      <td>0.0</td>\n",
       "      <td>0</td>\n",
       "      <td>0</td>\n",
       "      <td>0.0</td>\n",
       "      <td>0.0</td>\n",
       "      <td>0</td>\n",
       "    </tr>\n",
       "    <tr>\n",
       "      <th>1</th>\n",
       "      <td>0</td>\n",
       "      <td>7.0</td>\n",
       "      <td>0</td>\n",
       "      <td>1.0</td>\n",
       "      <td>1.0</td>\n",
       "      <td>1</td>\n",
       "      <td>17134</td>\n",
       "      <td>256</td>\n",
       "      <td>1.0</td>\n",
       "      <td>0</td>\n",
       "      <td>...</td>\n",
       "      <td>1</td>\n",
       "      <td>0</td>\n",
       "      <td>0.0</td>\n",
       "      <td>0</td>\n",
       "      <td>0.0</td>\n",
       "      <td>0</td>\n",
       "      <td>0</td>\n",
       "      <td>0.0</td>\n",
       "      <td>0.0</td>\n",
       "      <td>0</td>\n",
       "    </tr>\n",
       "    <tr>\n",
       "      <th>2</th>\n",
       "      <td>0</td>\n",
       "      <td>7.0</td>\n",
       "      <td>0</td>\n",
       "      <td>1.0</td>\n",
       "      <td>1.0</td>\n",
       "      <td>1</td>\n",
       "      <td>17134</td>\n",
       "      <td>768</td>\n",
       "      <td>1.0</td>\n",
       "      <td>0</td>\n",
       "      <td>...</td>\n",
       "      <td>165</td>\n",
       "      <td>0</td>\n",
       "      <td>0.0</td>\n",
       "      <td>0</td>\n",
       "      <td>0.0</td>\n",
       "      <td>0</td>\n",
       "      <td>0</td>\n",
       "      <td>0.0</td>\n",
       "      <td>0.0</td>\n",
       "      <td>0</td>\n",
       "    </tr>\n",
       "    <tr>\n",
       "      <th>3</th>\n",
       "      <td>0</td>\n",
       "      <td>7.0</td>\n",
       "      <td>0</td>\n",
       "      <td>1.0</td>\n",
       "      <td>1.0</td>\n",
       "      <td>1</td>\n",
       "      <td>17134</td>\n",
       "      <td>256</td>\n",
       "      <td>1.0</td>\n",
       "      <td>0</td>\n",
       "      <td>...</td>\n",
       "      <td>228</td>\n",
       "      <td>0</td>\n",
       "      <td>0.0</td>\n",
       "      <td>0</td>\n",
       "      <td>0.0</td>\n",
       "      <td>0</td>\n",
       "      <td>0</td>\n",
       "      <td>0.0</td>\n",
       "      <td>0.0</td>\n",
       "      <td>1</td>\n",
       "    </tr>\n",
       "    <tr>\n",
       "      <th>4</th>\n",
       "      <td>0</td>\n",
       "      <td>7.0</td>\n",
       "      <td>0</td>\n",
       "      <td>1.0</td>\n",
       "      <td>1.0</td>\n",
       "      <td>1</td>\n",
       "      <td>17134</td>\n",
       "      <td>768</td>\n",
       "      <td>1.0</td>\n",
       "      <td>0</td>\n",
       "      <td>...</td>\n",
       "      <td>191</td>\n",
       "      <td>0</td>\n",
       "      <td>0.0</td>\n",
       "      <td>0</td>\n",
       "      <td>0.0</td>\n",
       "      <td>0</td>\n",
       "      <td>0</td>\n",
       "      <td>0.0</td>\n",
       "      <td>0.0</td>\n",
       "      <td>1</td>\n",
       "    </tr>\n",
       "    <tr>\n",
       "      <th>5</th>\n",
       "      <td>0</td>\n",
       "      <td>7.0</td>\n",
       "      <td>0</td>\n",
       "      <td>1.0</td>\n",
       "      <td>1.0</td>\n",
       "      <td>1</td>\n",
       "      <td>17134</td>\n",
       "      <td>256</td>\n",
       "      <td>1.0</td>\n",
       "      <td>0</td>\n",
       "      <td>...</td>\n",
       "      <td>165</td>\n",
       "      <td>0</td>\n",
       "      <td>0.0</td>\n",
       "      <td>0</td>\n",
       "      <td>0.0</td>\n",
       "      <td>0</td>\n",
       "      <td>0</td>\n",
       "      <td>0.0</td>\n",
       "      <td>0.0</td>\n",
       "      <td>1</td>\n",
       "    </tr>\n",
       "    <tr>\n",
       "      <th>6</th>\n",
       "      <td>0</td>\n",
       "      <td>7.0</td>\n",
       "      <td>0</td>\n",
       "      <td>2.0</td>\n",
       "      <td>1.0</td>\n",
       "      <td>1</td>\n",
       "      <td>17134</td>\n",
       "      <td>768</td>\n",
       "      <td>1.0</td>\n",
       "      <td>0</td>\n",
       "      <td>...</td>\n",
       "      <td>165</td>\n",
       "      <td>0</td>\n",
       "      <td>0.0</td>\n",
       "      <td>1</td>\n",
       "      <td>0.0</td>\n",
       "      <td>0</td>\n",
       "      <td>0</td>\n",
       "      <td>0.0</td>\n",
       "      <td>0.0</td>\n",
       "      <td>1</td>\n",
       "    </tr>\n",
       "    <tr>\n",
       "      <th>7</th>\n",
       "      <td>0</td>\n",
       "      <td>7.0</td>\n",
       "      <td>0</td>\n",
       "      <td>1.0</td>\n",
       "      <td>1.0</td>\n",
       "      <td>1</td>\n",
       "      <td>14393</td>\n",
       "      <td>768</td>\n",
       "      <td>1.0</td>\n",
       "      <td>0</td>\n",
       "      <td>...</td>\n",
       "      <td>0</td>\n",
       "      <td>0</td>\n",
       "      <td>0.0</td>\n",
       "      <td>0</td>\n",
       "      <td>0.0</td>\n",
       "      <td>0</td>\n",
       "      <td>0</td>\n",
       "      <td>0.0</td>\n",
       "      <td>0.0</td>\n",
       "      <td>0</td>\n",
       "    </tr>\n",
       "    <tr>\n",
       "      <th>8</th>\n",
       "      <td>0</td>\n",
       "      <td>7.0</td>\n",
       "      <td>0</td>\n",
       "      <td>1.0</td>\n",
       "      <td>1.0</td>\n",
       "      <td>1</td>\n",
       "      <td>17134</td>\n",
       "      <td>256</td>\n",
       "      <td>1.0</td>\n",
       "      <td>0</td>\n",
       "      <td>...</td>\n",
       "      <td>254</td>\n",
       "      <td>0</td>\n",
       "      <td>0.0</td>\n",
       "      <td>0</td>\n",
       "      <td>0.0</td>\n",
       "      <td>0</td>\n",
       "      <td>0</td>\n",
       "      <td>0.0</td>\n",
       "      <td>0.0</td>\n",
       "      <td>0</td>\n",
       "    </tr>\n",
       "    <tr>\n",
       "      <th>9</th>\n",
       "      <td>0</td>\n",
       "      <td>7.0</td>\n",
       "      <td>0</td>\n",
       "      <td>2.0</td>\n",
       "      <td>1.0</td>\n",
       "      <td>1</td>\n",
       "      <td>16299</td>\n",
       "      <td>768</td>\n",
       "      <td>1.0</td>\n",
       "      <td>0</td>\n",
       "      <td>...</td>\n",
       "      <td>431</td>\n",
       "      <td>0</td>\n",
       "      <td>0.0</td>\n",
       "      <td>1</td>\n",
       "      <td>0.0</td>\n",
       "      <td>0</td>\n",
       "      <td>0</td>\n",
       "      <td>0.0</td>\n",
       "      <td>1.0</td>\n",
       "      <td>1</td>\n",
       "    </tr>\n",
       "  </tbody>\n",
       "</table>\n",
       "<p>10 rows × 33 columns</p>\n",
       "</div>"
      ],
      "text/plain": [
       "   IsBeta  RtpStateBitfield  IsSxsPassiveMode  AVProductsInstalled  \\\n",
       "0       0               7.0                 0                  1.0   \n",
       "1       0               7.0                 0                  1.0   \n",
       "2       0               7.0                 0                  1.0   \n",
       "3       0               7.0                 0                  1.0   \n",
       "4       0               7.0                 0                  1.0   \n",
       "5       0               7.0                 0                  1.0   \n",
       "6       0               7.0                 0                  2.0   \n",
       "7       0               7.0                 0                  1.0   \n",
       "8       0               7.0                 0                  1.0   \n",
       "9       0               7.0                 0                  2.0   \n",
       "\n",
       "   AVProductsEnabled  HasTpm  OsBuild  OsSuite  IsProtected  AutoSampleOptIn  \\\n",
       "0                1.0       1    17134      256          1.0                0   \n",
       "1                1.0       1    17134      256          1.0                0   \n",
       "2                1.0       1    17134      768          1.0                0   \n",
       "3                1.0       1    17134      256          1.0                0   \n",
       "4                1.0       1    17134      768          1.0                0   \n",
       "5                1.0       1    17134      256          1.0                0   \n",
       "6                1.0       1    17134      768          1.0                0   \n",
       "7                1.0       1    14393      768          1.0                0   \n",
       "8                1.0       1    17134      256          1.0                0   \n",
       "9                1.0       1    16299      768          1.0                0   \n",
       "\n",
       "   ...  Census_OSBuildRevision  Census_IsPortableOperatingSystem  \\\n",
       "0  ...                     165                                 0   \n",
       "1  ...                       1                                 0   \n",
       "2  ...                     165                                 0   \n",
       "3  ...                     228                                 0   \n",
       "4  ...                     191                                 0   \n",
       "5  ...                     165                                 0   \n",
       "6  ...                     165                                 0   \n",
       "7  ...                       0                                 0   \n",
       "8  ...                     254                                 0   \n",
       "9  ...                     431                                 0   \n",
       "\n",
       "   Census_IsFlightsDisabled  Census_IsSecureBootEnabled  \\\n",
       "0                       0.0                           0   \n",
       "1                       0.0                           0   \n",
       "2                       0.0                           0   \n",
       "3                       0.0                           0   \n",
       "4                       0.0                           0   \n",
       "5                       0.0                           0   \n",
       "6                       0.0                           1   \n",
       "7                       0.0                           0   \n",
       "8                       0.0                           0   \n",
       "9                       0.0                           1   \n",
       "\n",
       "   Census_IsVirtualDevice  Census_IsTouchEnabled  Census_IsPenCapable  \\\n",
       "0                     0.0                      0                    0   \n",
       "1                     0.0                      0                    0   \n",
       "2                     0.0                      0                    0   \n",
       "3                     0.0                      0                    0   \n",
       "4                     0.0                      0                    0   \n",
       "5                     0.0                      0                    0   \n",
       "6                     0.0                      0                    0   \n",
       "7                     0.0                      0                    0   \n",
       "8                     0.0                      0                    0   \n",
       "9                     0.0                      0                    0   \n",
       "\n",
       "   Census_IsAlwaysOnAlwaysConnectedCapable  Wdft_IsGamer  HasDetections  \n",
       "0                                      0.0           0.0              0  \n",
       "1                                      0.0           0.0              0  \n",
       "2                                      0.0           0.0              0  \n",
       "3                                      0.0           0.0              1  \n",
       "4                                      0.0           0.0              1  \n",
       "5                                      0.0           0.0              1  \n",
       "6                                      0.0           0.0              1  \n",
       "7                                      0.0           0.0              0  \n",
       "8                                      0.0           0.0              0  \n",
       "9                                      0.0           1.0              1  \n",
       "\n",
       "[10 rows x 33 columns]"
      ]
     },
     "metadata": {},
     "output_type": "display_data"
    }
   ],
   "source": [
    "df_pkl = DATA_PATH + \"train_clean_numeric.pkl\"\n",
    "\n",
    "if not os.path.exists(df_pkl):\n",
    "    # re-load from exported csv\n",
    "    df_train_clean_numeric = pd.read_csv(DATA_PATH + \"train_clean_numeric.csv\")\n",
    "    df_train_clean_numeric.to_pickle(df_pkl)\n",
    "\n",
    "df_train_clean_numeric = pd.read_pickle(df_pkl)\n",
    "display(df_train_clean_numeric.head(10))"
   ]
  },
  {
   "cell_type": "code",
   "execution_count": 4,
   "metadata": {
    "scrolled": false
   },
   "outputs": [
    {
     "name": "stdout",
     "output_type": "stream",
     "text": [
      "Train Test Split: X shape:(8921483, 32), y shape:(8921483, 1), 4.224807977676392 sec.\n"
     ]
    },
    {
     "name": "stderr",
     "output_type": "stream",
     "text": [
      "C:\\Users\\cheny\\AppData\\Local\\Continuum\\anaconda3\\lib\\site-packages\\sklearn\\preprocessing\\data.py:645: DataConversionWarning: Data with input dtype int64, float64 were all converted to float64 by StandardScaler.\n",
      "  return self.partial_fit(X, y)\n",
      "C:\\Users\\cheny\\AppData\\Local\\Continuum\\anaconda3\\lib\\site-packages\\sklearn\\base.py:464: DataConversionWarning: Data with input dtype int64, float64 were all converted to float64 by StandardScaler.\n",
      "  return self.fit(X, **fit_params).transform(X)\n",
      "C:\\Users\\cheny\\jupyter\\Projects\\Capstone\\Util.py:136: DataConversionWarning: Data with input dtype int64, float64 were all converted to float64 by StandardScaler.\n",
      "  train_test_list[1] = scaler.transform(X_test)\n"
     ]
    },
    {
     "name": "stdout",
     "output_type": "stream",
     "text": [
      "Finish scaling. 15.487183570861816 sec.\n",
      "Predict model accuracy:0.5875552108197234\n",
      "[[ 870377  914660]\n",
      " [ 557188 1226369]]\n",
      "              precision    recall  f1-score   support\n",
      "\n",
      "           0       0.61      0.49      0.54   1785037\n",
      "           1       0.57      0.69      0.62   1783557\n",
      "\n",
      "   micro avg       0.59      0.59      0.59   3568594\n",
      "   macro avg       0.59      0.59      0.58   3568594\n",
      "weighted avg       0.59      0.59      0.58   3568594\n",
      "\n",
      "Compute ROC curve and AUC:0.6160165347992657,2.865290403366089 sec.\n"
     ]
    },
    {
     "data": {
      "image/png": "[encoded data removed]",
      "text/plain": [
       "<Figure size 720x720 with 2 Axes>"
      ]
     },
     "metadata": {},
     "output_type": "display_data"
    },
    {
     "data": {
      "image/png": "[encoded data removed]",
      "text/plain": [
       "<Figure size 432x288 with 1 Axes>"
      ]
     },
     "metadata": {},
     "output_type": "display_data"
    },
    {
     "name": "stdout",
     "output_type": "stream",
     "text": [
      "AUC score: 0.616\n"
     ]
    },
    {
     "data": {
      "text/plain": [
       "0.6160165347992657"
      ]
     },
     "execution_count": 4,
     "metadata": {},
     "output_type": "execute_result"
    }
   ],
   "source": [
    "# perform logistic regression with df_train_clean_numeric, StandardScaler()\n",
    "train_test_list = Util.trainTestSplit(df_train_clean_numeric,'HasDetections',0.4)\n",
    "\n",
    "# use StandardScaler\n",
    "scaler = StandardScaler()\n",
    "train_test_list = Util.scale(train_test_list,scaler)\n",
    "\n",
    "# use Logistic Regression\n",
    "save_model = MODEL_PATH + 'logreg_model_1.sav'\n",
    "logreg_model = LogisticRegression(solver = \"lbfgs\", multi_class = \"auto\")\n",
    "\n",
    "#if saved model is not found, train the model\n",
    "if not os.path.exists(save_model):\n",
    "    Util.trainModel(train_test_list, logreg_model, save_model)\n",
    "    \n",
    "Util.predictModel(train_test_list, save_model)\n",
    "# ROC, AUC\n",
    "Util.plotROC(train_test_list, save_model)"
   ]
  },
  {
   "cell_type": "code",
   "execution_count": 5,
   "metadata": {
    "scrolled": false
   },
   "outputs": [
    {
     "name": "stdout",
     "output_type": "stream",
     "text": [
      "Train Test Split: X shape:(8921483, 32), y shape:(8921483, 1), 13.893633842468262 sec.\n"
     ]
    },
    {
     "name": "stderr",
     "output_type": "stream",
     "text": [
      "C:\\Users\\cheny\\AppData\\Local\\Continuum\\anaconda3\\lib\\site-packages\\sklearn\\preprocessing\\data.py:334: DataConversionWarning: Data with input dtype int64, float64 were all converted to float64 by MinMaxScaler.\n",
      "  return self.partial_fit(X, y)\n"
     ]
    },
    {
     "name": "stdout",
     "output_type": "stream",
     "text": [
      "Finish scaling. 9.1983163356781 sec.\n",
      "Predict model accuracy:0.5861014169726229\n",
      "[[ 809073  975964]\n",
      " [ 501072 1282485]]\n",
      "              precision    recall  f1-score   support\n",
      "\n",
      "           0       0.62      0.45      0.52   1785037\n",
      "           1       0.57      0.72      0.63   1783557\n",
      "\n",
      "   micro avg       0.59      0.59      0.59   3568594\n",
      "   macro avg       0.59      0.59      0.58   3568594\n",
      "weighted avg       0.59      0.59      0.58   3568594\n",
      "\n",
      "Compute ROC curve and AUC:0.6142339040827244,2.7502799034118652 sec.\n"
     ]
    },
    {
     "data": {
      "image/png": "[encoded data removed]",
      "text/plain": [
       "<Figure size 720x720 with 2 Axes>"
      ]
     },
     "metadata": {},
     "output_type": "display_data"
    },
    {
     "data": {
      "image/png": "[encoded data removed]",
      "text/plain": [
       "<Figure size 432x288 with 1 Axes>"
      ]
     },
     "metadata": {},
     "output_type": "display_data"
    },
    {
     "name": "stdout",
     "output_type": "stream",
     "text": [
      "AUC score: 0.614\n"
     ]
    },
    {
     "data": {
      "text/plain": [
       "0.6142339040827244"
      ]
     },
     "execution_count": 5,
     "metadata": {},
     "output_type": "execute_result"
    }
   ],
   "source": [
    "# perform logistic regression with df_train_clean_numeric, MinMaxScaler()\n",
    "train_test_list = Util.trainTestSplit(df_train_clean_numeric,'HasDetections',0.4)\n",
    "\n",
    "# use MinMaxScaler\n",
    "scaler = MinMaxScaler()\n",
    "train_test_list = Util.scale(train_test_list,scaler)\n",
    "\n",
    "# use Logistic Regression\n",
    "save_model = MODEL_PATH + 'logreg_model_2.sav'\n",
    "logreg_model = LogisticRegression(solver = \"lbfgs\", multi_class = \"auto\")\n",
    "\n",
    "#if saved model is not found, train the model\n",
    "if not os.path.exists(save_model):\n",
    "    Util.trainModel(train_test_list, logreg_model, save_model)\n",
    "    \n",
    "Util.predictModel(train_test_list, save_model)\n",
    "# ROC, AUC\n",
    "Util.plotROC(train_test_list, save_model)"
   ]
  },
  {
   "cell_type": "markdown",
   "metadata": {},
   "source": [
    "* Comparing StandardScaler vs MinMaxScaler, StandardScaler gives high AUC scores. So, StandardScaler will be used for later."
   ]
  },
  {
   "cell_type": "markdown",
   "metadata": {},
   "source": [
    "##  IV. Advanced Model - Random Forest"
   ]
  },
  {
   "cell_type": "markdown",
   "metadata": {},
   "source": [
    "### Numeric columns only"
   ]
  },
  {
   "cell_type": "code",
   "execution_count": 6,
   "metadata": {},
   "outputs": [
    {
     "name": "stdout",
     "output_type": "stream",
     "text": [
      "Train Test Split: X shape:(8921483, 32), y shape:(8921483, 1), 17.469367027282715 sec.\n"
     ]
    },
    {
     "name": "stderr",
     "output_type": "stream",
     "text": [
      "C:\\Users\\cheny\\AppData\\Local\\Continuum\\anaconda3\\lib\\site-packages\\sklearn\\preprocessing\\data.py:645: DataConversionWarning: Data with input dtype int64, float64 were all converted to float64 by StandardScaler.\n",
      "  return self.partial_fit(X, y)\n",
      "C:\\Users\\cheny\\AppData\\Local\\Continuum\\anaconda3\\lib\\site-packages\\sklearn\\base.py:464: DataConversionWarning: Data with input dtype int64, float64 were all converted to float64 by StandardScaler.\n",
      "  return self.fit(X, **fit_params).transform(X)\n",
      "C:\\Users\\cheny\\jupyter\\Projects\\Capstone\\Util.py:136: DataConversionWarning: Data with input dtype int64, float64 were all converted to float64 by StandardScaler.\n",
      "  train_test_list[1] = scaler.transform(X_test)\n"
     ]
    },
    {
     "name": "stdout",
     "output_type": "stream",
     "text": [
      "Finish scaling. 13.778986692428589 sec.\n"
     ]
    }
   ],
   "source": [
    "# perform Random Forest df_train_clean_numeric\n",
    "train_test_list = Util.trainTestSplit(df_train_clean_numeric,'HasDetections',0.4)\n",
    "\n",
    "# use StandardScaler\n",
    "scaler = StandardScaler()\n",
    "train_test_list = Util.scale(train_test_list,scaler)"
   ]
  },
  {
   "cell_type": "code",
   "execution_count": 7,
   "metadata": {},
   "outputs": [
    {
     "name": "stdout",
     "output_type": "stream",
     "text": [
      "Predict model accuracy:0.6268737771794718\n",
      "[[1294149  490888]\n",
      " [ 840648  942909]]\n",
      "              precision    recall  f1-score   support\n",
      "\n",
      "           0       0.61      0.72      0.66   1785037\n",
      "           1       0.66      0.53      0.59   1783557\n",
      "\n",
      "   micro avg       0.63      0.63      0.63   3568594\n",
      "   macro avg       0.63      0.63      0.62   3568594\n",
      "weighted avg       0.63      0.63      0.62   3568594\n",
      "\n",
      "Compute ROC curve and AUC:0.684328250991146,60.24768114089966 sec.\n"
     ]
    },
    {
     "data": {
      "image/png": "[encoded data removed]",
      "text/plain": [
       "<Figure size 720x720 with 2 Axes>"
      ]
     },
     "metadata": {},
     "output_type": "display_data"
    },
    {
     "data": {
      "image/png": "[encoded data removed]",
      "text/plain": [
       "<Figure size 432x288 with 1 Axes>"
      ]
     },
     "metadata": {},
     "output_type": "display_data"
    },
    {
     "name": "stdout",
     "output_type": "stream",
     "text": [
      "AUC score: 0.684\n"
     ]
    }
   ],
   "source": [
    "# random forest, n_estimators = 10\n",
    "save_model =  MODEL_PATH + 'random_forest_model_10.sav'\n",
    "random_forest_classifier = RandomForestClassifier()\n",
    "\n",
    "#if saved model is not found, train the model\n",
    "if not os.path.exists(save_model):\n",
    "    Util.trainModel(train_test_list, random_forest_classifier, save_model)\n",
    "    \n",
    "Util.predictModel(train_test_list, save_model)\n",
    "# ROC, AUC\n",
    "auc = Util.plotROC(train_test_list, save_model)"
   ]
  },
  {
   "cell_type": "code",
   "execution_count": 8,
   "metadata": {},
   "outputs": [
    {
     "name": "stdout",
     "output_type": "stream",
     "text": [
      "Predict model accuracy:0.5715612367223618\n",
      "[[1053736  731301]\n",
      " [ 797623  985934]]\n",
      "              precision    recall  f1-score   support\n",
      "\n",
      "           0       0.57      0.59      0.58   1785037\n",
      "           1       0.57      0.55      0.56   1783557\n",
      "\n",
      "   micro avg       0.57      0.57      0.57   3568594\n",
      "   macro avg       0.57      0.57      0.57   3568594\n",
      "weighted avg       0.57      0.57      0.57   3568594\n",
      "\n",
      "Compute ROC curve and AUC:0.5989981416484041,48.057462215423584 sec.\n"
     ]
    },
    {
     "data": {
      "image/png": "[encoded data removed]",
      "text/plain": [
       "<Figure size 720x720 with 2 Axes>"
      ]
     },
     "metadata": {},
     "output_type": "display_data"
    },
    {
     "data": {
      "image/png": "[encoded data removed]",
      "text/plain": [
       "<Figure size 432x288 with 1 Axes>"
      ]
     },
     "metadata": {},
     "output_type": "display_data"
    },
    {
     "name": "stdout",
     "output_type": "stream",
     "text": [
      "AUC score: 0.599\n"
     ]
    },
    {
     "data": {
      "text/plain": [
       "0.5989981416484041"
      ]
     },
     "execution_count": 8,
     "metadata": {},
     "output_type": "execute_result"
    }
   ],
   "source": [
    "# n_estimators = 20\n",
    "\n",
    "save_model =  MODEL_PATH + 'random_forest_model_20.sav'\n",
    "random_forest_classifier = RandomForestClassifier()\n",
    "\n",
    "#if saved model is not found, train the model\n",
    "if not os.path.exists(save_model):\n",
    "    Util.trainModel(train_test_list, random_forest_classifier, save_model)\n",
    "    \n",
    "Util.predictModel(train_test_list, save_model)\n",
    "# ROC, AUC\n",
    "Util.plotROC(train_test_list, save_model)"
   ]
  },
  {
   "cell_type": "code",
   "execution_count": null,
   "metadata": {},
   "outputs": [
    {
     "name": "stdout",
     "output_type": "stream",
     "text": [
      "Predict model accuracy:0.5953798610881484\n",
      "[[1085434  699603]\n",
      " [ 744322 1039235]]\n",
      "              precision    recall  f1-score   support\n",
      "\n",
      "           0       0.59      0.61      0.60   1785037\n",
      "           1       0.60      0.58      0.59   1783557\n",
      "\n",
      "   micro avg       0.60      0.60      0.60   3568594\n",
      "   macro avg       0.60      0.60      0.60   3568594\n",
      "weighted avg       0.60      0.60      0.60   3568594\n",
      "\n"
     ]
    }
   ],
   "source": [
    "# n_estimators = 30\n",
    "\n",
    "save_model =  MODEL_PATH +'random_forest_model_30.sav'\n",
    "random_forest_classifier = RandomForestClassifier(n_estimators = 30)\n",
    "\n",
    "#if saved model is not found, train the model\n",
    "if not os.path.exists(save_model):\n",
    "    Util.trainModel(train_test_list, random_forest_classifier, save_model)\n",
    "    \n",
    "Util.predictModel(train_test_list, save_model)\n",
    "# ROC, AUC\n",
    "Util.plotROC(train_test_list, save_model)"
   ]
  },
  {
   "cell_type": "code",
   "execution_count": null,
   "metadata": {},
   "outputs": [],
   "source": [
    "# n_estimators = 50\n",
    "\n",
    "save_model =  MODEL_PATH +'random_forest_model_50.sav'\n",
    "random_forest_classifier = RandomForestClassifier(n_estimators = 50)\n",
    "\n",
    "#if saved model is not found, train the model\n",
    "if not os.path.exists(save_model):\n",
    "    Util.trainModel(train_test_list, random_forest_classifier, save_model)\n",
    "    \n",
    "Util.predictModel(train_test_list, save_model)\n",
    "# ROC, AUC\n",
    "Util.plotROC(train_test_list, save_model)"
   ]
  },
  {
   "cell_type": "markdown",
   "metadata": {},
   "source": [
    "## V. Hyperparameter Tuning"
   ]
  },
  {
   "cell_type": "markdown",
   "metadata": {},
   "source": [
    "Use GridSearchCV here to find the best Logistic Regression model."
   ]
  },
  {
   "cell_type": "markdown",
   "metadata": {},
   "source": [
    "### Numeric columns only"
   ]
  },
  {
   "cell_type": "code",
   "execution_count": null,
   "metadata": {},
   "outputs": [],
   "source": [
    "df_pkl = DATA_PATH + \"train_clean_numeric.pkl\"\n",
    "\n",
    "if not os.path.exists(df_pkl):\n",
    "    # re-load from exported csv\n",
    "    df_train_clean_numeric = pd.read_csv(DATA_PATH + \"train_clean_numeric.csv\")\n",
    "    df_train_clean_numeric.to_pickle(df_pkl)\n",
    "\n",
    "df_train_clean_numeric = pd.read_pickle(df_pkl)\n",
    "\n",
    "# train test split\n",
    "train_test_list = Util.trainTestSplit(df_train_clean_numeric,'HasDetections',0.4)\n",
    "\n",
    "# use StandardScaler\n",
    "scaler = StandardScaler()\n",
    "train_test_list = Util.scale(train_test_list,scaler)"
   ]
  },
  {
   "cell_type": "code",
   "execution_count": null,
   "metadata": {},
   "outputs": [],
   "source": [
    "# cross validation to find the hyperparameters\n",
    "X_train = train_test_list[0]\n",
    "y_train = train_test_list[2]"
   ]
  },
  {
   "cell_type": "markdown",
   "metadata": {},
   "source": [
    "Best: 0.587502 using {'C': 1.0, 'class_weight': 'balanced', 'max_iter': 100, 'solver': 'lbfgs'}\n",
    "LogisticRegression(C=1.0, class_weight='balanced', dual=False,\n",
    "          fit_intercept=True, intercept_scaling=1, max_iter=100,\n",
    "          multi_class='warn', n_jobs=None, penalty='l2', random_state=7,\n",
    "          solver='lbfgs', tol=0.0001, verbose=0, warm_start=False)"
   ]
  },
  {
   "cell_type": "code",
   "execution_count": null,
   "metadata": {},
   "outputs": [],
   "source": [
    "# Logistic Regression\n",
    "time_start = time.time()\n",
    "\n",
    "max_iter= [100,110,120]\n",
    "inv_regularization_strength = [10**i for i in np.arange(-1,1,0.5)]\n",
    "solvers = ['lbfgs']\n",
    "class_weight = ['balanced']\n",
    "param_grid = dict(max_iter = max_iter, \n",
    "                  C = inv_regularization_strength, \n",
    "                  solver = solvers, \n",
    "                  class_weight = class_weight)\n",
    "\n",
    "LR_model = LogisticRegression(random_state = 7)\n",
    "\n",
    "# instantiate the grid search\n",
    "grid = GridSearchCV(estimator = LR_model, param_grid = param_grid, cv = 3, n_jobs=-1)\n",
    "grid_result = grid.fit(X_train, y_train)\n",
    "\n",
    "# Summarize results\n",
    "print(\"Best: %f using %s\" % (grid_result.best_score_, grid_result.best_params_))\n",
    "print(grid_result.best_estimator_)\n",
    "display(\"Execution time:{0} sec.\".format(time.time() - time_start))"
   ]
  },
  {
   "cell_type": "markdown",
   "metadata": {},
   "source": [
    "After we found the best model, train and predict it, using ROC Curve and AUC to evaluate it"
   ]
  },
  {
   "cell_type": "code",
   "execution_count": null,
   "metadata": {},
   "outputs": [],
   "source": [
    "# use Logistic Regression\n",
    "save_model = MODEL_PATH + 'logreg_model_best.sav'\n",
    "logreg_model = LogisticRegression(C=1.0, class_weight='balanced', dual=False,\n",
    "          fit_intercept=True, intercept_scaling=1, max_iter=100,\n",
    "          multi_class='warn', n_jobs=None, penalty='l2', random_state=7,\n",
    "          solver='lbfgs', tol=0.0001, verbose=0, warm_start=False)\n",
    "\n",
    "#if saved model is not found, train the model\n",
    "if not os.path.exists(save_model):\n",
    "    Util.trainModel(train_test_list, logreg_model, save_model)\n",
    "    \n",
    "Util.predictModel(train_test_list, save_model)\n",
    "Util.plotROC(train_test_list, save_model)"
   ]
  },
  {
   "cell_type": "markdown",
   "metadata": {},
   "source": [
    "## Summary"
   ]
  },
  {
   "cell_type": "markdown",
   "metadata": {},
   "source": [
    "This notebook documents the process of the initial stages of this project. After data preprocessing, a minimun usable dataset contains only numric data is obtained. (Other types of data is preserved for future use.) Logistic Regression and Random Forest Classifer has been applied to make the prediction. However, at this stage, predicted result is not optimal and not reaching desired accuracy. For most models, AUC score falls within 0.58 - 0.65 range and still have high Type I, Type II errors. For future improvements, Feature engineering is in-progress, and more advanced model such as Neural Network will be applied to improve the result."
   ]
  }
 ],
 "metadata": {
  "kernelspec": {
   "display_name": "Python 3",
   "language": "python",
   "name": "python3"
  },
  "language_info": {
   "codemirror_mode": {
    "name": "ipython",
    "version": 3
   },
   "file_extension": ".py",
   "mimetype": "text/x-python",
   "name": "python",
   "nbconvert_exporter": "python",
   "pygments_lexer": "ipython3",
   "version": "3.7.3"
  }
 },
 "nbformat": 4,
 "nbformat_minor": 2
}
